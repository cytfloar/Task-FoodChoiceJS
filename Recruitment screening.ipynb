{
 "cells": [
  {
   "cell_type": "code",
   "execution_count": 31,
   "id": "2f9d6195-a9ac-4ad7-ba4e-f325c652862d",
   "metadata": {},
   "outputs": [],
   "source": [
    "import pandas as pd"
   ]
  },
  {
   "cell_type": "code",
   "execution_count": 33,
   "id": "f1985b20-b57c-46aa-a726-e001b9f6f975",
   "metadata": {},
   "outputs": [],
   "source": [
    "#format for REDCap screening list\n",
    "df = pd.read_csv('Book1.csv')\n",
    "with open('output.txt', 'w') as f:\n",
    "    f.write(' OR '.join([f'([record_id]=\"{value}\")' for value in df['record_id']]))"
   ]
  },
  {
   "cell_type": "code",
   "execution_count": 38,
   "id": "ed0d408d-d0b2-4e18-a21f-ac05ff0ad33c",
   "metadata": {},
   "outputs": [],
   "source": [
    "#export format for recruitment email\n",
    "df = pd.read_csv('Book2.csv')\n",
    "with open('output.txt', 'w') as f:\n",
    "    f.write('  '.join([f'Dear {value},' for value in df['Name']]))"
   ]
  },
  {
   "cell_type": "code",
   "execution_count": null,
   "id": "050bed85-b79a-40f0-8936-dcee5325aa43",
   "metadata": {},
   "outputs": [],
   "source": []
  }
 ],
 "metadata": {
  "kernelspec": {
   "display_name": "Python 3 (ipykernel)",
   "language": "python",
   "name": "python3"
  },
  "language_info": {
   "codemirror_mode": {
    "name": "ipython",
    "version": 3
   },
   "file_extension": ".py",
   "mimetype": "text/x-python",
   "name": "python",
   "nbconvert_exporter": "python",
   "pygments_lexer": "ipython3",
   "version": "3.12.0"
  }
 },
 "nbformat": 4,
 "nbformat_minor": 5
}
